{
 "cells": [
  {
   "cell_type": "markdown",
   "metadata": {},
   "source": [
    "[DIY Covid-19 Dashboard Kit](https://github.com/fsmeraldi/diy-covid19dash) (C) Fabrizio Smeraldi, 2020 ([f.smeraldi@qmul.ac.uk](mailto:f.smeraldi@qmul.ac.uk) - [web](http://www.eecs.qmul.ac.uk/~fabri/)). This notebook is released under the [GNU GPLv3.0 or later](https://www.gnu.org/licenses/)."
   ]
  },
  {
   "cell_type": "markdown",
   "metadata": {},
   "source": [
    "# DIY Covid-19 Dashboard"
   ]
  },
  {
   "cell_type": "markdown",
   "metadata": {},
   "source": [
    "This is a template for your DIY Covid Dashboard, to which you can add the code you developed in the previous notebooks. The dashboard will be displayed using [voila](https://voila.readthedocs.io/en/stable/index.html), a Python dashboarding tool that converts notebooks to standalone dashboards. Contrary to the other libraries we have seen, the ```voila``` package must be installed using *pip* or *conda* but it does not need to be imported - it rather acts at the level of the notebook server. Package ```voila``` is already installed on the QMUL JupyterHub as well as in the Binder - to install it locally, follow the [instructions](https://voila.readthedocs.io/en/stable/install.html) online.\n",
    "\n",
    "Broadly speaking, Voila acts by **running all the cells in your notebook** when the dashboard is first loaded; it then hides all code cells and displays all markdown cells and any outputs, including widgets. However, the code is still there in the background and handles any interaction with the widgets. To view this dashboard template rendered in Voila click [here](https://mybinder.org/v2/gh/fsmeraldi/diy-covid19dash/main?urlpath=%2Fvoila%2Frender%2FDashboard.ipynb)."
   ]
  },
  {
   "cell_type": "code",
   "execution_count": 1,
   "metadata": {},
   "outputs": [],
   "source": [
    "from IPython.display import clear_output\n",
    "import ipywidgets as wdg\n",
    "import pandas as pd\n",
    "import numpy as np\n",
    "import matplotlib.pyplot as plt\n",
    "import json\n",
    "from uk_covid19 import Cov19API"
   ]
  },
  {
   "cell_type": "code",
   "execution_count": 2,
   "metadata": {},
   "outputs": [],
   "source": [
    "%matplotlib inline\n",
    "# make figures larger\n",
    "plt.rcParams['figure.dpi'] = 100"
   ]
  },
  {
   "cell_type": "markdown",
   "metadata": {},
   "source": [
    "## Load initial data from disk\n",
    "\n",
    "You should include \"canned\" data in ```.json``` files along with your dashboard. When the dashboard starts, it should load that data and assign it as a dictionary to the ```jsondata``` variable (the code below will be hidden when the dashboard is rendered by Voila)."
   ]
  },
  {
   "cell_type": "code",
   "execution_count": 3,
   "metadata": {
    "scrolled": true
   },
   "outputs": [
    {
     "data": {
      "text/plain": [
       "{'data': [{'date': '2023-11-24', 'occupied': None, 'hospital': 2264},\n",
       "  {'date': '2023-11-17', 'occupied': None, 'hospital': 2503},\n",
       "  {'date': '2023-11-10', 'occupied': None, 'hospital': 2703},\n",
       "  {'date': '2023-11-03', 'occupied': None, 'hospital': 3236},\n",
       "  {'date': '2023-10-27', 'occupied': None, 'hospital': 3622},\n",
       "  {'date': '2023-10-20', 'occupied': None, 'hospital': 3779},\n",
       "  {'date': '2023-10-13', 'occupied': None, 'hospital': 4377},\n",
       "  {'date': '2023-10-06', 'occupied': None, 'hospital': 4312},\n",
       "  {'date': '2023-09-29', 'occupied': None, 'hospital': 3675},\n",
       "  {'date': '2023-09-22', 'occupied': None, 'hospital': 3051},\n",
       "  {'date': '2023-09-15', 'occupied': None, 'hospital': 3017},\n",
       "  {'date': '2023-09-08', 'occupied': None, 'hospital': 3188},\n",
       "  {'date': '2023-09-01', 'occupied': None, 'hospital': 2791},\n",
       "  {'date': '2023-08-25', 'occupied': None, 'hospital': 2543},\n",
       "  {'date': '2023-08-18', 'occupied': None, 'hospital': 2495},\n",
       "  {'date': '2023-08-11', 'occupied': None, 'hospital': 2232},\n",
       "  {'date': '2023-08-04', 'occupied': None, 'hospital': 1846},\n",
       "  {'date': '2023-07-28', 'occupied': None, 'hospital': 1440},\n",
       "  {'date': '2023-07-21', 'occupied': None, 'hospital': 1125},\n",
       "  {'date': '2023-07-14', 'occupied': None, 'hospital': 1066},\n",
       "  {'date': '2023-07-07', 'occupied': None, 'hospital': 1037},\n",
       "  {'date': '2023-06-30', 'occupied': None, 'hospital': 1163},\n",
       "  {'date': '2023-06-23', 'occupied': None, 'hospital': 1476},\n",
       "  {'date': '2023-06-16', 'occupied': None, 'hospital': 1991},\n",
       "  {'date': '2023-06-09', 'occupied': None, 'hospital': 2268},\n",
       "  {'date': '2023-06-02', 'occupied': None, 'hospital': 2588},\n",
       "  {'date': '2023-05-26', 'occupied': 79, 'hospital': 2983},\n",
       "  {'date': '2023-05-19', 'occupied': 92, 'hospital': 3362},\n",
       "  {'date': '2023-05-12', 'occupied': 102, 'hospital': 3928},\n",
       "  {'date': '2023-05-05', 'occupied': 100, 'hospital': 4350},\n",
       "  {'date': '2023-04-28', 'occupied': 94, 'hospital': 4631},\n",
       "  {'date': '2023-04-21', 'occupied': 112, 'hospital': 5182},\n",
       "  {'date': '2023-04-14', 'occupied': 143, 'hospital': 6013},\n",
       "  {'date': '2023-04-07', 'occupied': 144, 'hospital': 6599},\n",
       "  {'date': '2023-03-31', 'occupied': 186, 'hospital': 7759},\n",
       "  {'date': '2023-03-24', 'occupied': 170, 'hospital': 8304},\n",
       "  {'date': '2023-03-17', 'occupied': 172, 'hospital': 8340},\n",
       "  {'date': '2023-03-10', 'occupied': 180, 'hospital': 7935},\n",
       "  {'date': '2023-03-03', 'occupied': 158, 'hospital': 7468},\n",
       "  {'date': '2023-02-24', 'occupied': 156, 'hospital': 7598},\n",
       "  {'date': '2023-02-17', 'occupied': 134, 'hospital': 7371},\n",
       "  {'date': '2023-02-10', 'occupied': 133, 'hospital': 6455},\n",
       "  {'date': '2023-02-03', 'occupied': 139, 'hospital': 6288},\n",
       "  {'date': '2023-01-27', 'occupied': 131, 'hospital': 5708},\n",
       "  {'date': '2023-01-20', 'occupied': 133, 'hospital': 5888},\n",
       "  {'date': '2023-01-13', 'occupied': 166, 'hospital': 7164},\n",
       "  {'date': '2023-01-06', 'occupied': 209, 'hospital': 8671},\n",
       "  {'date': '2022-12-30', 'occupied': 223, 'hospital': 9530},\n",
       "  {'date': '2022-12-23', 'occupied': 178, 'hospital': 9047},\n",
       "  {'date': '2022-12-16', 'occupied': 156, 'hospital': 7157},\n",
       "  {'date': '2022-12-09', 'occupied': 113, 'hospital': 5771},\n",
       "  {'date': '2022-12-02', 'occupied': 135, 'hospital': 5027},\n",
       "  {'date': '2022-11-25', 'occupied': 129, 'hospital': 4638},\n",
       "  {'date': '2022-11-18', 'occupied': 129, 'hospital': 4771},\n",
       "  {'date': '2022-11-11', 'occupied': 137, 'hospital': 5372},\n",
       "  {'date': '2022-11-04', 'occupied': 161, 'hospital': 6641},\n",
       "  {'date': '2022-10-28', 'occupied': 217, 'hospital': 8663},\n",
       "  {'date': '2022-10-21', 'occupied': 194, 'hospital': 9935},\n",
       "  {'date': '2022-10-14', 'occupied': 224, 'hospital': 10420},\n",
       "  {'date': '2022-10-07', 'occupied': 199, 'hospital': 10070},\n",
       "  {'date': '2022-09-30', 'occupied': 155, 'hospital': 7672},\n",
       "  {'date': '2022-09-23', 'occupied': 153, 'hospital': 5604},\n",
       "  {'date': '2022-09-16', 'occupied': 122, 'hospital': 4543},\n",
       "  {'date': '2022-09-09', 'occupied': 122, 'hospital': 4797},\n",
       "  {'date': '2022-09-02', 'occupied': 143, 'hospital': 5334},\n",
       "  {'date': '2022-08-26', 'occupied': 135, 'hospital': 5845},\n",
       "  {'date': '2022-08-19', 'occupied': 182, 'hospital': 7045},\n",
       "  {'date': '2022-08-12', 'occupied': 196, 'hospital': 8072},\n",
       "  {'date': '2022-08-05', 'occupied': 229, 'hospital': 9152},\n",
       "  {'date': '2022-07-29', 'occupied': 253, 'hospital': 11149},\n",
       "  {'date': '2022-07-22', 'occupied': 292, 'hospital': 13182},\n",
       "  {'date': '2022-07-15', 'occupied': 287, 'hospital': 13975},\n",
       "  {'date': '2022-07-08', 'occupied': 228, 'hospital': 12283},\n",
       "  {'date': '2022-07-01', 'occupied': 219, 'hospital': 9389},\n",
       "  {'date': '2022-06-24', 'occupied': 168, 'hospital': 6752},\n",
       "  {'date': '2022-06-17', 'occupied': 120, 'hospital': 5037},\n",
       "  {'date': '2022-06-10', 'occupied': 117, 'hospital': 4262},\n",
       "  {'date': '2022-06-03', 'occupied': 125, 'hospital': 3849},\n",
       "  {'date': '2022-05-27', 'occupied': 134, 'hospital': 4197},\n",
       "  {'date': '2022-05-20', 'occupied': 171, 'hospital': 5187},\n",
       "  {'date': '2022-05-13', 'occupied': 162, 'hospital': 6366},\n",
       "  {'date': '2022-05-06', 'occupied': 211, 'hospital': 8170},\n",
       "  {'date': '2022-04-29', 'occupied': 259, 'hospital': 9938},\n",
       "  {'date': '2022-04-22', 'occupied': 283, 'hospital': 12883},\n",
       "  {'date': '2022-04-15', 'occupied': 271, 'hospital': 14394},\n",
       "  {'date': '2022-04-08', 'occupied': 315, 'hospital': 16366},\n",
       "  {'date': '2022-04-01', 'occupied': 311, 'hospital': 15966},\n",
       "  {'date': '2022-03-25', 'occupied': 290, 'hospital': 13842},\n",
       "  {'date': '2022-03-18', 'occupied': 240, 'hospital': 11595},\n",
       "  {'date': '2022-03-11', 'occupied': 221, 'hospital': 9369},\n",
       "  {'date': '2022-03-04', 'occupied': 232, 'hospital': 8403},\n",
       "  {'date': '2022-02-25', 'occupied': 246, 'hospital': 8498},\n",
       "  {'date': '2022-02-18', 'occupied': 303, 'hospital': 9258},\n",
       "  {'date': '2022-02-11', 'occupied': 372, 'hospital': 10367},\n",
       "  {'date': '2022-02-04', 'occupied': 425, 'hospital': 12032},\n",
       "  {'date': '2022-01-28', 'occupied': 467, 'hospital': 13462},\n",
       "  {'date': '2022-01-21', 'occupied': 552, 'hospital': 14865},\n",
       "  {'date': '2022-01-14', 'occupied': 637, 'hospital': 16537},\n",
       "  {'date': '2022-01-07', 'occupied': 728, 'hospital': 16163},\n",
       "  {'date': '2021-12-31', 'occupied': 789, 'hospital': 12395},\n",
       "  {'date': '2021-12-24', 'occupied': 742, 'hospital': 7366},\n",
       "  {'date': '2021-12-17', 'occupied': 789, 'hospital': 6321},\n",
       "  {'date': '2021-12-10', 'occupied': 793, 'hospital': 6088},\n",
       "  {'date': '2021-12-03', 'occupied': 783, 'hospital': 5851},\n",
       "  {'date': '2021-11-26', 'occupied': 796, 'hospital': 5992},\n",
       "  {'date': '2021-11-19', 'occupied': 769, 'hospital': 6310},\n",
       "  {'date': '2021-11-12', 'occupied': 838, 'hospital': 6777},\n",
       "  {'date': '2021-11-05', 'occupied': 860, 'hospital': 7072},\n",
       "  {'date': '2021-10-29', 'occupied': 809, 'hospital': 7113},\n",
       "  {'date': '2021-10-22', 'occupied': 746, 'hospital': 6405},\n",
       "  {'date': '2021-10-15', 'occupied': 673, 'hospital': 5363},\n",
       "  {'date': '2021-10-08', 'occupied': 647, 'hospital': 4975},\n",
       "  {'date': '2021-10-01', 'occupied': 671, 'hospital': 4799},\n",
       "  {'date': '2021-09-24', 'occupied': 730, 'hospital': 5036},\n",
       "  {'date': '2021-09-17', 'occupied': 844, 'hospital': 5910},\n",
       "  {'date': '2021-09-10', 'occupied': 898, 'hospital': 6400},\n",
       "  {'date': '2021-09-03', 'occupied': 889, 'hospital': 6195},\n",
       "  {'date': '2021-08-27', 'occupied': 874, 'hospital': 5889},\n",
       "  {'date': '2021-08-20', 'occupied': 857, 'hospital': 5576},\n",
       "  {'date': '2021-08-13', 'occupied': 793, 'hospital': 5076},\n",
       "  {'date': '2021-08-06', 'occupied': 765, 'hospital': 4879},\n",
       "  {'date': '2021-07-30', 'occupied': 785, 'hospital': 5111},\n",
       "  {'date': '2021-07-23', 'occupied': 625, 'hospital': 4401},\n",
       "  {'date': '2021-07-16', 'occupied': 512, 'hospital': 3367},\n",
       "  {'date': '2021-07-09', 'occupied': 393, 'hospital': 2352},\n",
       "  {'date': '2021-07-02', 'occupied': 297, 'hospital': 1611},\n",
       "  {'date': '2021-06-25', 'occupied': 238, 'hospital': 1284},\n",
       "  {'date': '2021-06-18', 'occupied': 210, 'hospital': 1170},\n",
       "  {'date': '2021-06-11', 'occupied': 146, 'hospital': 884},\n",
       "  {'date': '2021-06-04', 'occupied': 119, 'hospital': 805},\n",
       "  {'date': '2021-05-28', 'occupied': 116, 'hospital': 743},\n",
       "  {'date': '2021-05-21', 'occupied': 117, 'hospital': 766},\n",
       "  {'date': '2021-05-14', 'occupied': 115, 'hospital': 818},\n",
       "  {'date': '2021-05-07', 'occupied': 145, 'hospital': 973},\n",
       "  {'date': '2021-04-30', 'occupied': 170, 'hospital': 1161},\n",
       "  {'date': '2021-04-23', 'occupied': 221, 'hospital': 1478},\n",
       "  {'date': '2021-04-16', 'occupied': 298, 'hospital': 1844},\n",
       "  {'date': '2021-04-09', 'occupied': 362, 'hospital': 2321},\n",
       "  {'date': '2021-04-02', 'occupied': 436, 'hospital': 2784},\n",
       "  {'date': '2021-03-26', 'occupied': 559, 'hospital': 3712},\n",
       "  {'date': '2021-03-19', 'occupied': 749, 'hospital': 4841},\n",
       "  {'date': '2021-03-12', 'occupied': 1023, 'hospital': 6391},\n",
       "  {'date': '2021-03-05', 'occupied': 1417, 'hospital': 8594},\n",
       "  {'date': '2021-02-26', 'occupied': 1808, 'hospital': 11781},\n",
       "  {'date': '2021-02-19', 'occupied': 2251, 'hospital': 15018},\n",
       "  {'date': '2021-02-12', 'occupied': 2688, 'hospital': 19009},\n",
       "  {'date': '2021-02-05', 'occupied': 3217, 'hospital': 24402},\n",
       "  {'date': '2021-01-29', 'occupied': 3506, 'hospital': 29359},\n",
       "  {'date': '2021-01-22', 'occupied': 3727, 'hospital': 33412},\n",
       "  {'date': '2021-01-15', 'occupied': 3464, 'hospital': 33362},\n",
       "  {'date': '2021-01-08', 'occupied': 2814, 'hospital': 29346},\n",
       "  {'date': '2021-01-01', 'occupied': 1940, 'hospital': 22534},\n",
       "  {'date': '2020-12-25', 'occupied': 1437, 'hospital': 17701},\n",
       "  {'date': '2020-12-18', 'occupied': 1190, 'hospital': 15866},\n",
       "  {'date': '2020-12-11', 'occupied': 1117, 'hospital': 13901},\n",
       "  {'date': '2020-12-04', 'occupied': 1113, 'hospital': 12987},\n",
       "  {'date': '2020-11-27', 'occupied': 1242, 'hospital': 13754},\n",
       "  {'date': '2020-11-20', 'occupied': 1241, 'hospital': 14236},\n",
       "  {'date': '2020-11-13', 'occupied': 1158, 'hospital': 13328},\n",
       "  {'date': '2020-11-06', 'occupied': 984, 'hospital': 11181},\n",
       "  {'date': '2020-10-30', 'occupied': 801, 'hospital': 9295},\n",
       "  {'date': '2020-10-23', 'occupied': 602, 'hospital': 6842},\n",
       "  {'date': '2020-10-16', 'occupied': 482, 'hospital': 4854},\n",
       "  {'date': '2020-10-09', 'occupied': 367, 'hospital': 3238},\n",
       "  {'date': '2020-10-02', 'occupied': 311, 'hospital': 2180},\n",
       "  {'date': '2020-09-25', 'occupied': 227, 'hospital': 1686},\n",
       "  {'date': '2020-09-18', 'occupied': 115, 'hospital': 1020},\n",
       "  {'date': '2020-09-11', 'occupied': 129, 'hospital': 622},\n",
       "  {'date': '2020-09-04', 'occupied': 54, 'hospital': 474},\n",
       "  {'date': '2020-08-28', 'occupied': 52, 'hospital': 469},\n",
       "  {'date': '2020-08-21', 'occupied': 64, 'hospital': 528},\n",
       "  {'date': '2020-08-14', 'occupied': 63, 'hospital': 642},\n",
       "  {'date': '2020-08-07', 'occupied': 57, 'hospital': 711},\n",
       "  {'date': '2020-07-31', 'occupied': 71, 'hospital': 870},\n",
       "  {'date': '2020-07-24', 'occupied': 92, 'hospital': 1018},\n",
       "  {'date': '2020-07-17', 'occupied': 122, 'hospital': 1346},\n",
       "  {'date': '2020-07-10', 'occupied': 162, 'hospital': 1746},\n",
       "  {'date': '2020-07-03', 'occupied': 202, 'hospital': 2294},\n",
       "  {'date': '2020-06-26', 'occupied': 226, 'hospital': 2859},\n",
       "  {'date': '2020-06-19', 'occupied': 283, 'hospital': 3575},\n",
       "  {'date': '2020-06-12', 'occupied': 336, 'hospital': 4136},\n",
       "  {'date': '2020-06-05', 'occupied': 481, 'hospital': 5213},\n",
       "  {'date': '2020-05-29', 'occupied': 630, 'hospital': 6250},\n",
       "  {'date': '2020-05-22', 'occupied': 852, 'hospital': 7761},\n",
       "  {'date': '2020-05-15', 'occupied': 1200, 'hospital': 9079},\n",
       "  {'date': '2020-05-08', 'occupied': 1446, 'hospital': 10249},\n",
       "  {'date': '2020-05-01', 'occupied': 1954, 'hospital': 12623},\n",
       "  {'date': '2020-04-24', 'occupied': 2414, 'hospital': 14642},\n",
       "  {'date': '2020-04-17', 'occupied': 2780, 'hospital': 16728},\n",
       "  {'date': '2020-04-10', 'occupied': 2820, 'hospital': 18669},\n",
       "  {'date': '2020-04-03', 'occupied': 1788, 'hospital': 13635},\n",
       "  {'date': '2020-03-27', 'occupied': None, 'hospital': 6462},\n",
       "  {'date': '2020-03-20', 'occupied': None, 'hospital': 1580}],\n",
       " 'lastUpdate': '2023-11-30T18:00:03.000000Z',\n",
       " 'length': 193,\n",
       " 'totalPages': 1}"
      ]
     },
     "execution_count": 3,
     "metadata": {},
     "output_type": "execute_result"
    }
   ],
   "source": [
    "\n",
    "with open(\"occupied.json\", \"rt\") as INFILE:\n",
    "    data=json.load(INFILE)\n",
    "data"
   ]
  },
  {
   "cell_type": "markdown",
   "metadata": {},
   "source": [
    "## Wrangle the data\n",
    "\n",
    "The dashboard should contain the logic to wrangle the raw data into a ```DataFrame``` (or more than one, as required) that will be used for plotting. The wrangling code should be put into a function and called on the data from the JSON file (we'll need to call it again on any data downloaded from the API).  In this template, we just pretend we are wrangling ```rawdata``` and instead generate a dataframe with some random data"
   ]
  },
  {
   "cell_type": "code",
   "execution_count": 4,
   "metadata": {},
   "outputs": [],
   "source": [
    "def parse_date(datestring):\n",
    "    \"\"\" Convert a date string into a pandas datetime object \"\"\"\n",
    "    return pd.to_datetime(datestring, format=\"%Y-%m-%d\")"
   ]
  },
  {
   "cell_type": "code",
   "execution_count": 5,
   "metadata": {},
   "outputs": [
    {
     "name": "stdout",
     "output_type": "stream",
     "text": [
      "2020-03-20 00:00:00  to  2023-11-24 00:00:00\n"
     ]
    },
    {
     "data": {
      "text/html": [
       "<div>\n",
       "<style scoped>\n",
       "    .dataframe tbody tr th:only-of-type {\n",
       "        vertical-align: middle;\n",
       "    }\n",
       "\n",
       "    .dataframe tbody tr th {\n",
       "        vertical-align: top;\n",
       "    }\n",
       "\n",
       "    .dataframe thead th {\n",
       "        text-align: right;\n",
       "    }\n",
       "</style>\n",
       "<table border=\"1\" class=\"dataframe\">\n",
       "  <thead>\n",
       "    <tr style=\"text-align: right;\">\n",
       "      <th></th>\n",
       "      <th>occupied</th>\n",
       "      <th>hospital</th>\n",
       "    </tr>\n",
       "  </thead>\n",
       "  <tbody>\n",
       "    <tr>\n",
       "      <th>2020-03-20</th>\n",
       "      <td>0.0</td>\n",
       "      <td>1580.0</td>\n",
       "    </tr>\n",
       "    <tr>\n",
       "      <th>2020-03-27</th>\n",
       "      <td>0.0</td>\n",
       "      <td>6462.0</td>\n",
       "    </tr>\n",
       "    <tr>\n",
       "      <th>2020-04-03</th>\n",
       "      <td>1788.0</td>\n",
       "      <td>13635.0</td>\n",
       "    </tr>\n",
       "    <tr>\n",
       "      <th>2020-04-10</th>\n",
       "      <td>2820.0</td>\n",
       "      <td>18669.0</td>\n",
       "    </tr>\n",
       "    <tr>\n",
       "      <th>2020-04-17</th>\n",
       "      <td>2780.0</td>\n",
       "      <td>16728.0</td>\n",
       "    </tr>\n",
       "    <tr>\n",
       "      <th>...</th>\n",
       "      <td>...</td>\n",
       "      <td>...</td>\n",
       "    </tr>\n",
       "    <tr>\n",
       "      <th>2023-10-27</th>\n",
       "      <td>0.0</td>\n",
       "      <td>3622.0</td>\n",
       "    </tr>\n",
       "    <tr>\n",
       "      <th>2023-11-03</th>\n",
       "      <td>0.0</td>\n",
       "      <td>3236.0</td>\n",
       "    </tr>\n",
       "    <tr>\n",
       "      <th>2023-11-10</th>\n",
       "      <td>0.0</td>\n",
       "      <td>2703.0</td>\n",
       "    </tr>\n",
       "    <tr>\n",
       "      <th>2023-11-17</th>\n",
       "      <td>0.0</td>\n",
       "      <td>2503.0</td>\n",
       "    </tr>\n",
       "    <tr>\n",
       "      <th>2023-11-24</th>\n",
       "      <td>0.0</td>\n",
       "      <td>2264.0</td>\n",
       "    </tr>\n",
       "  </tbody>\n",
       "</table>\n",
       "<p>193 rows × 2 columns</p>\n",
       "</div>"
      ],
      "text/plain": [
       "            occupied  hospital\n",
       "2020-03-20       0.0    1580.0\n",
       "2020-03-27       0.0    6462.0\n",
       "2020-04-03    1788.0   13635.0\n",
       "2020-04-10    2820.0   18669.0\n",
       "2020-04-17    2780.0   16728.0\n",
       "...              ...       ...\n",
       "2023-10-27       0.0    3622.0\n",
       "2023-11-03       0.0    3236.0\n",
       "2023-11-10       0.0    2703.0\n",
       "2023-11-17       0.0    2503.0\n",
       "2023-11-24       0.0    2264.0\n",
       "\n",
       "[193 rows x 2 columns]"
      ]
     },
     "execution_count": 5,
     "metadata": {},
     "output_type": "execute_result"
    }
   ],
   "source": [
    "\n",
    "def wrangle_data(rawdata):\n",
    "    \"\"\" Parameters: rawdata - data from json file or API call. Returns a dataframe.\n",
    "    Edit to include the code that wrangles the data, creates the dataframe and fills it in. \"\"\"\n",
    "    \n",
    "    datalist=data['data']\n",
    "    dates=[dictionary['date'] for dictionary in datalist ]\n",
    "    dates.sort()\n",
    "    startdate=parse_date(dates[0])\n",
    "    enddate=parse_date(dates[-1])\n",
    "    print (startdate, ' to ', enddate)\n",
    "    index=pd.date_range(startdate, enddate, freq='7D')\n",
    "    occupieddf=pd.DataFrame(index=index, columns=['occupied', 'hospital'])\n",
    "    \n",
    "    for entry in datalist:\n",
    "        date = parse_date(entry['date'])\n",
    "        for column in ['occupied', 'hospital']:\n",
    "            if pd.isna(occupieddf.loc[date, column]): \n",
    "                value = float(entry[column]) if entry[column] is not None else 0.0\n",
    "                occupieddf.loc[date, column] = value\n",
    "\n",
    "    occupieddf.fillna(0.0, inplace=True)\n",
    "    return occupieddf\n",
    "\n",
    "df=wrangle_data(data) \n",
    "df\n",
    "\n"
   ]
  },
  {
   "cell_type": "markdown",
   "metadata": {},
   "source": [
    "## \n",
    "Download current data"
   ]
  },
  {
   "cell_type": "markdown",
   "metadata": {},
   "source": [
    "Give your users an option to refresh the dataset - a \"refresh\" button will do. The button callback should\n",
    "* call the code that accesses the API and download some fresh raw data;\n",
    "* wrangle that data into a dataframe and update the corresponding (global) variable for plotting (here, ```df```);\n",
    "* optionally: force a redraw of the graph and give the user some fredback.\n",
    "\n",
    "Once you get it to work, you may want to wrap your API call inside an exception handler, so that the user is informed, the \"canned\" data are not overwritten and nothing crashes if for any reason the server cannot be reached or data are not available.\n",
    "\n",
    "After you refresh the data, graphs will not update until the user interacts with a widget. You can trick ```iPywidgets``` into redrawing the graph by simulating interaction, as in the ```refresh_graph``` function we define in the Graph and Analysis section below.\n",
    "\n",
    "In this example, clicking on the button below just generates some more random data and refreshes the graph. The button should read *Fetch Data*. If you see anything else, take a deep breath :)"
   ]
  },
  {
   "cell_type": "code",
   "execution_count": 6,
   "metadata": {},
   "outputs": [],
   "source": [
    "\n",
    "def access_api():\n",
    "    \"\"\" Accesses the PHE API. Return data as a like-for-like replacement for the \"canned\" data loaded from the JSON file. \"\"\"\n",
    "    filters = ['areaType=nation', 'areaName=England']\n",
    "    structure = {\n",
    "    \"date\": \"date\",\n",
    "    \"occupied\": \"covidOccupiedMVBedsWeekly\",\n",
    "    \"hospital\": \"hospitalCasesWeekly\", \n",
    "}\n",
    "    api = Cov19API(filters=filters, structure=structure)\n",
    "    occupied=api.get_json()\n",
    "    with open(\"occupied.json\",\"wt\") as OUTF:\n",
    "        json.dump(occupied, OUTF)\n",
    "    with open(\"occupied.json\", \"rt\") as INFILE:\n",
    "        data=json.load(INFILE)\n",
    "\n",
    "\n",
    "    return data "
   ]
  },
  {
   "cell_type": "code",
   "execution_count": 7,
   "metadata": {},
   "outputs": [
    {
     "data": {
      "application/vnd.jupyter.widget-view+json": {
       "model_id": "b8e8d7116d094eb7a632982449f99baf",
       "version_major": 2,
       "version_minor": 0
      },
      "text/plain": [
       "Button(button_style='danger', description='Update', icon='exclamation-triangle', style=ButtonStyle(), tooltip=…"
      ]
     },
     "metadata": {},
     "output_type": "display_data"
    },
    {
     "name": "stdout",
     "output_type": "stream",
     "text": [
      "2020-03-20 00:00:00  to  2023-11-24 00:00:00\n"
     ]
    }
   ],
   "source": [
    "\n",
    "def api_button_callback(button):\n",
    "    \"\"\" Button callback - it must take the button as its parameter (unused in this case).\n",
    "    Accesses API, wrangles data, updates global variable df used for plotting. \"\"\"\n",
    "    \n",
    "    apidata=access_api()\n",
    "    global df\n",
    "    df=wrangle_data(apidata)\n",
    "    refresh_graph()\n",
    "    apibutton.icon=\"check\"\n",
    "   \n",
    "   \n",
    "    \n",
    "apibutton=wdg.Button(\n",
    "    description='Update',\n",
    "    disabled=False,\n",
    "    button_style='danger',\n",
    "    tooltip=\"Keep calm and carry on\",\n",
    "    icon='exclamation-triangle'\n",
    ")\n",
    "\n",
    "apibutton.on_click(api_button_callback) \n",
    "\n",
    "display(apibutton)\n",
    "\n"
   ]
  },
  {
   "cell_type": "markdown",
   "metadata": {},
   "source": [
    "## Graphs and Analysis"
   ]
  },
  {
   "cell_type": "markdown",
   "metadata": {},
   "source": [
    "Include at least one graph with interactive controls, as well as some instructions for the user and/or comments on what the graph represents and how it should be explored (this example shows two random walks)"
   ]
  },
  {
   "cell_type": "code",
   "execution_count": 8,
   "metadata": {},
   "outputs": [
    {
     "data": {
      "application/vnd.jupyter.widget-view+json": {
       "model_id": "d5a952ab88214817b12ec5f99e4c5f58",
       "version_major": 2,
       "version_minor": 0
      },
      "text/plain": [
       "SelectMultiple(description='type', index=(0,), options=('occupied', 'hospital'), value=('occupied',))"
      ]
     },
     "metadata": {},
     "output_type": "display_data"
    },
    {
     "data": {
      "application/vnd.jupyter.widget-view+json": {
       "model_id": "deaa0101f34344198c0e94b4ff2c09e6",
       "version_major": 2,
       "version_minor": 0
      },
      "text/plain": [
       "Output()"
      ]
     },
     "metadata": {},
     "output_type": "display_data"
    }
   ],
   "source": [
    "def plot_random_class(type):\n",
    "    \"\"\" Our sample graph plotting function \"\"\"\n",
    "    df[list(type)].plot()\n",
    "    plt.show() \n",
    "\n",
    "\n",
    "classnumber=wdg.SelectMultiple(\n",
    "    options=['occupied', 'hospital'],\n",
    "    value=['occupied'],\n",
    "    row=2,\n",
    "    description='type',\n",
    "    disabled=False,\n",
    ")\n",
    "\n",
    "def refresh_graph():\n",
    "    \"\"\" We change the value of the widget in order to force a redraw of the graph;\n",
    "    this is useful when the data have been updated. This is a bit of a gimmick; it\n",
    "    needs to be customised for one of your widgets. \"\"\"\n",
    "    current=classnumber.value\n",
    "    if current==classnumber.options[0]:\n",
    "        other=classnumber.options[1]\n",
    "    else:\n",
    "        other=classnumber.options[0]\n",
    "    classnumber.value=[other] \n",
    "    classnumber.value=current \n",
    "    \n",
    "  \n",
    "graph=wdg.interactive_output(plot_random_class, {'type': classnumber})\n",
    "\n",
    "display(classnumber, graph)\n",
    "\n",
    "# Description of the graph:In this chart I am comparing the data of occupied and hospital. \n",
    "#\"Occupied\" represents covidOccupiedMVBedsWeekly and \"hospital\" represents hospitalCasesWeekly. \n",
    "#The blue walk in this graph represents \"occupied\" and the yellow one represents \"hospital\".\n",
    "#In the widget named type, if you select \"occupied\", the chart will show the walk of occupied, and if you \n",
    "#select \"hospital\", the chart will show the walk of hospital. If you select both occupied and hospital at the \n",
    "#same time, the chart will show the two walks of occupied and hospital,\n",
    "#which makes it easier to compare the two data in the same chart.\n"
   ]
  },
  {
   "cell_type": "markdown",
   "metadata": {},
   "source": [
    "## Deploying the dashboard\n",
    "\n",
    "Once your code is ready and you are satisfied with the appearance of the graphs, replace all the text boxes above with the explanations you would like a dashboard user to see. The next step is deploying the dashboard online - there are several [options](https://voila.readthedocs.io/en/stable/deploy.html) for this, we suggest deploying as a [Binder](https://mybinder.org/). This is basically the same technique that has been used to package this tutorial and to deploy this template dashboard. The instructions may seem a bit involved, but the actual steps are surprisingly easy - we will be going through them together during a live session. You will need an account on [GitHub](https://github.com/) for this - if you don't have one already, now it's the time to create it. "
   ]
  },
  {
   "cell_type": "markdown",
   "metadata": {},
   "source": [
    "**Author and Copyright Notice** Remember that if you deploy this dashboard as a Binder it will be publicly accessible. Take credit for your work! Also acknowledge your sources: Based on UK Government [data](https://coronavirus.data.gov.uk/) published by [Public Health England](https://www.gov.uk/government/organisations/public-health-england) and on the [DIY Covid Dashboard Kit](https://github.com/fsmeraldi/diy-covid19dash), Copyright (C) Fabrizio Smeraldi 2020,2023. Released under the [GNU GPLv3.0 or later](https://www.gnu.org/licenses/)."
   ]
  }
 ],
 "metadata": {
  "kernelspec": {
   "display_name": "Python 3 (ipykernel)",
   "language": "python",
   "name": "python3"
  },
  "language_info": {
   "codemirror_mode": {
    "name": "ipython",
    "version": 3
   },
   "file_extension": ".py",
   "mimetype": "text/x-python",
   "name": "python",
   "nbconvert_exporter": "python",
   "pygments_lexer": "ipython3",
   "version": "3.9.12"
  }
 },
 "nbformat": 4,
 "nbformat_minor": 4
}
